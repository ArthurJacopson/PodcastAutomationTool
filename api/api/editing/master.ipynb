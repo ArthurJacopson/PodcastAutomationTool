{
 "cells": [
  {
   "cell_type": "code",
   "execution_count": null,
   "metadata": {},
   "outputs": [],
   "source": [
    "import numpy as np\n",
    "from IPython.display import Audio, display\n",
    "import librosa\n",
    "import librosa.display\n",
    "import matplotlib.pyplot as plt\n",
    "\n",
    "from utils.audio_utils import plot_spectogram\n",
    "\n",
    "input_filepath = \"../example-files/trimmed/s1-trim.wav\"\n",
    "input_filename = input_filepath.split('/')[-1]\n",
    "\n",
    "y, sr = librosa.load(input_filepath)"
   ]
  },
  {
   "cell_type": "code",
   "execution_count": null,
   "metadata": {},
   "outputs": [],
   "source": [
    "plot_spectogram(y, sr, input_filename)"
   ]
  },
  {
   "cell_type": "code",
   "execution_count": null,
   "metadata": {},
   "outputs": [],
   "source": [
    "from scipy import signal\n",
    "import random\n",
    "\n",
    "def high_pass(y, sr):\n",
    "    b,a = signal.butter(1, 200/(sr/2), btype='highpass')\n",
    "    yf = signal.lfilter(b,a,y)\n",
    "    return yf\n",
    "\n",
    "yf1 = high_pass(y, sr)\n",
    "\n",
    "\n",
    "librosa.display.waveshow(y,sr=sr, axis='time', color=\"blue\")\n",
    "librosa.display.waveshow(yf1,sr=sr, axis='time', color=\"orange\")\n",
    "\n",
    "display(Audio(data=y, rate=sr))\n",
    "display(Audio(data=yf1, rate=sr))"
   ]
  }
 ],
 "metadata": {
  "kernelspec": {
   "display_name": ".env",
   "language": "python",
   "name": "python3"
  },
  "language_info": {
   "codemirror_mode": {
    "name": "ipython",
    "version": 3
   },
   "file_extension": ".py",
   "mimetype": "text/x-python",
   "name": "python",
   "nbconvert_exporter": "python",
   "pygments_lexer": "ipython3",
   "version": "3.10.12"
  }
 },
 "nbformat": 4,
 "nbformat_minor": 2
}
